{
 "cells": [
  {
   "cell_type": "code",
   "execution_count": 1,
   "id": "58449421",
   "metadata": {},
   "outputs": [],
   "source": [
    "import os\n",
    "import time\n",
    "from contextlib import contextmanager\n",
    "from redis import Redis\n",
    "from redisvl.schema import IndexSchema\n",
    "from redisvl.index import SearchIndex\n",
    "from redisvl.query import VectorQuery\n",
    "import numpy as np"
   ]
  },
  {
   "cell_type": "code",
   "execution_count": 2,
   "id": "aa896dde",
   "metadata": {},
   "outputs": [],
   "source": [
    "@contextmanager\n",
    "def timer(operation_name=\"Operation\"):\n",
    "    \"\"\"Context manager for timing operations.\"\"\"\n",
    "    start_time = time.perf_counter()\n",
    "    yield\n",
    "    end_time = time.perf_counter()\n",
    "    print(f\"{operation_name} took: {end_time - start_time:.4f} seconds\")\n",
    "\n",
    "\n",
    "def generate_fake_embeddings(num_embeddings=10, embedding_dim=128, type=np.float32 ,seed=None):\n",
    "    \"\"\"\n",
    "    Generate fake embeddings using random numbers.\n",
    "\n",
    "    Args:\n",
    "        num_embeddings (int): Number of embeddings to generate.\n",
    "        embedding_dim (int): Dimension of each embedding vector.\n",
    "        seed (int, optional): Random seed for reproducibility.\n",
    "\n",
    "    Returns:\n",
    "        np.ndarray: A matrix of shape (num_embeddings, embedding_dim) with fake embeddings.\n",
    "    \"\"\"\n",
    "    if seed is not None:\n",
    "        np.random.seed(seed)\n",
    "\n",
    "    embeddings = np.random.rand(num_embeddings, embedding_dim).astype(np.float32)\n",
    "    return embeddings"
   ]
  },
  {
   "cell_type": "code",
   "execution_count": 3,
   "id": "0be0d481",
   "metadata": {},
   "outputs": [],
   "source": [
    "REDIS_HOST = os.getenv(\"REDIS_HOST\", \"localhost\")\n",
    "REDIS_PORT = os.getenv(\"REDIS_PORT\", \"12000\")  \n",
    "REDIS_PASSWORD = os.getenv(\"REDIS_PASSWORD\", \"\")  "
   ]
  },
  {
   "cell_type": "code",
   "execution_count": 4,
   "id": "30aad35d",
   "metadata": {},
   "outputs": [
    {
     "name": "stdout",
     "output_type": "stream",
     "text": [
      "True\n",
      "8.2.1\n"
     ]
    }
   ],
   "source": [
    "REDIS_URL = f\"redis://:{REDIS_PASSWORD}@{REDIS_HOST}:{REDIS_PORT}\"\n",
    "client = Redis.from_url(REDIS_URL)\n",
    "print(client.ping())\n",
    "print(client.info()[\"redis_version\"])"
   ]
  },
  {
   "cell_type": "code",
   "execution_count": 5,
   "id": "cdfc424f",
   "metadata": {},
   "outputs": [],
   "source": [
    "data_size = 100\n",
    "dimension = 960 \n",
    "datatype = \"float32\" \n",
    "prefix = \"data\"\n",
    "distance_metric = \"cosine\""
   ]
  },
  {
   "cell_type": "code",
   "execution_count": 6,
   "id": "07405348",
   "metadata": {},
   "outputs": [
    {
     "name": "stdout",
     "output_type": "stream",
     "text": [
      "08:26:33 redisvl.index.index INFO   Index already exists, overwriting.\n",
      "Index creation took: 0.0029 seconds\n"
     ]
    }
   ],
   "source": [
    " # define the scheama\n",
    "flat_schema = IndexSchema.from_dict(\n",
    "    {\n",
    "        \"index\": {\"name\": \"redisflat\", \"prefix\": prefix, \"storage_type\": \"hash\"},\n",
    "        \"fields\": [\n",
    "            {\n",
    "                \"name\": \"vector\",\n",
    "                \"type\": \"vector\",\n",
    "                \"attrs\": {\n",
    "                    \"dims\": dimension,\n",
    "                    \"distance_metric\": distance_metric,\n",
    "                    \"algorithm\": \"flat\",\n",
    "                    \"datatype\": datatype,\n",
    "                },\n",
    "            },\n",
    "            {\n",
    "                \"name\": \"id\",\n",
    "                \"type\": \"text\",\n",
    "            },\n",
    "        ],\n",
    "    }\n",
    ")\n",
    "\n",
    "with timer(\"Index creation\"):\n",
    "    flat_index = SearchIndex(flat_schema, client,validate_on_load=True)\n",
    "    flat_index.create(overwrite=True, drop=False )"
   ]
  },
  {
   "cell_type": "code",
   "execution_count": null,
   "id": "b06e1d2c",
   "metadata": {},
   "outputs": [],
   "source": []
  },
  {
   "cell_type": "code",
   "execution_count": 7,
   "id": "1b05ca94",
   "metadata": {},
   "outputs": [
    {
     "name": "stdout",
     "output_type": "stream",
     "text": [
      "Fake embeddings generated.\n",
      "Generating fake embeddings took: 0.0056 seconds\n"
     ]
    }
   ],
   "source": [
    "with timer(\"Generating fake embeddings\"):\n",
    "    fake_embeddings = generate_fake_embeddings(\n",
    "        num_embeddings=data_size, embedding_dim=dimension, type=type ,seed=42\n",
    "    )\n",
    "    print(\"Fake embeddings generated.\")"
   ]
  },
  {
   "cell_type": "code",
   "execution_count": 8,
   "id": "deccc861",
   "metadata": {},
   "outputs": [
    {
     "name": "stdout",
     "output_type": "stream",
     "text": [
      "Data prepared for loading into index.\n",
      "Data preparation took: 0.0001 seconds\n"
     ]
    }
   ],
   "source": [
    "with timer(\"Data preparation\"):\n",
    "    data = [{\"id\": \"document:\" +str(i),\"vector\": e.tobytes()} for i, e in enumerate(fake_embeddings)]\n",
    "    #data = [{\"vector\": e.tobytes()} for i, e in enumerate(fake_embeddings)]\n",
    "    print(\"Data prepared for loading into index.\")"
   ]
  },
  {
   "cell_type": "code",
   "execution_count": null,
   "id": "94d56b17",
   "metadata": {},
   "outputs": [
    {
     "name": "stdout",
     "output_type": "stream",
     "text": [
      "Data loaded into index.\n",
      "Data loading into index took: 0.0189 seconds\n"
     ]
    }
   ],
   "source": [
    "# data with other fields\n",
    "#data = [{\"id\": i, \"vector\": e.tobytes()} for i, e in enumerate(fake_embeddings)]\n",
    "#print(\"Data prepared for loading into index.\")\n",
    "#index.load(data, id_field=\"id\")\n",
    "#print(\"Data loaded into index.\")\n",
    "with timer(\"Data loading into index\"):\n",
    "    flat_index.load(data, id_field=\"id\")\n",
    "    print(\"Data loaded into index.\")"
   ]
  },
  {
   "cell_type": "code",
   "execution_count": 10,
   "id": "aa258423",
   "metadata": {},
   "outputs": [
    {
     "name": "stdout",
     "output_type": "stream",
     "text": [
      "[{'id': 'data:01K6FE1CHPRTBCZ36AH6111ZB8', 'vector_distance': '-1.19209289551e-07', 'vector': 'ÿ>\\x03bs?c;?A\\x19?Z\\x1f>\\x07\\x1f>\\x15m=]?\\x19??D5?Р<\\x03Lx?\\x1aU?moY>S0:>d;>ś>pV\\x06?\\'>\\x1b>d\\x1c?{\\x0e>>ȓ>\\x01>K\\x01I?IwL>ޤ\\x03?{\\x17?B>=\\x0f\\x1b?.>9=*r?3w?!N?V>Q\\x08=)/?[>/=ԇ>\\x0c=9h?~>\\x0f)?>.#\\x05?4\\x0b?}J=>6x?\\x1boF?\\x01p?h\\x13e?\\x0f\\x19?k?;=H>@@9=>\\x00>C>$(T?_>֏>!\\n?qN\\x10>\\\\M?\\x02=|?ձE? |K>;\\x15P?4?7:?qE?=҈>L=Y\\\\?w\\x1f?wk>*=\\x139>n~>x:?6#?` c?(>=66?B?ݯ\\x0f?\\x1b^E?>\\x05?>;<.=\\x00=\"?D>1\\x02?GVh?vF\\x7f>\\x1d>kA?\\x11Jj>=MZ>1\\x17%>\\x00n?N?&\"?\\x0b\\x18_?tM?9\\x0c?>~d?U\\x12\\n?fN?=fe?ZѢ>b=gi>߭>jiQ?X\\\\?;V\\x02?>;pc>{=۬>bq?z>v\\x04?\\r3?->x?bv?>[>\\x0c>֑>\\x16\\x17=h\\x0c\\x1c?\\x00?bR=>\\x1dh?Ou>R_\\x14>>S|?Vw>\\x13\\x11,?B?BWs>cl:?\\x12N>!?\\x01/\"?(\\t?=bU?I=>>>\\x03\\'=D\\x17?t-?3<\\x18\\x03?g>\\x0b*%?\\x1d2>L0?-\\x02>o?J\\x0c>@>d=l?P`?\\x10>(?y5Q?!\\x0e?.\\x07? w>=e?́f?\\x12\"?P>˲>;9?\\x05e?\\x19\\x18c?G?0\\\\$?Q=%>\\x07f?>\\x1b?;\\x16<P=@)?ۥ;ު$>y\\x0c?\\x0b 1?&?ۦe>aQ6?mr>ʚ>\\x10\\x1a??WN&?fY?RY(?|\\x11?ؿ=?E>ȇ>ly>8\\x17y?\\x1bD>*]d?M!?xK?Ӭ\\x00?\\x13?G+>G>8?e>G2<=%?\\\\5>p?4t?4j?q>=}<Im?:>vw?̯v?^Z?\\x01\\x96>+>\\x18Y?C>->\\x0e?קo?\\x02/2?\\x11?x\\x04=\\x1dq\\x1d?+t}?/r\\x0f>A\\x04?`?\\x03=?o2?3?9\\x0f>Q>K2O?cO?t]?\"i?V\\x02?_c\\x00?\\x13]L?\\td&?\\x1a3?\\x12K?dc?\\r>iL>y=+\\n\\x14?58\\x13=b>\\n?>@\\x17?<j\\x18=R?j>\\'\\x1c\\x02>\\x05?L\\x1eE?0\\x00]>u\\x1f?ʮ=6S=\\x06\\x08?\\x10g\\n?.#?\\x1f9?qy?B,\\x04?Z>SK?>>=]< pv?\\x02V?^+2?Hb>\\x11t1>\\x081 >\\x1f>\\x1e\\x0c?6?\\x02)?\\x7fS>\\rrt?<?&\\r?\\x1c?>1}>\\rB>4\\x02B?k<~=Dm<=?&=wZ?\"4?>G]=\\x13>j>[1>!>\\x08>Z\\x1d?\\x7f\"?9=:Ϳ>[8 ?\\x00?B[?%(?H&>Y=u$??.<c\\x15?p?GR\\x13?5>$?\\x1f>\\x0b?\\x03q??>\\x10v?\\x0fg?y}H>L\\r=d=E<Pk=.?[ˑ=P>IX?ɤ<\\x02P?EO>g\\x00=^]2?f\\x02!?\\x02`?-<?M?f>5>J(@?N?}?B>(y>\\x00F?}>\\x1dFn?[?\\x1b>\\x169@?)A?2=\\rg?8X\\x01?S?ݣ>\\x03Ae?qE>h1<\\x1dg?=\\x14}>C7s?Zs?\\x12?\\x15!?>\\x1f>F>+*,?@?J?j$J?Dʺ=$>k=\\x0c?I\\x10>@c?\">=il\\x12>\\\\B?C\\x1e?h\\x19=0@=r3?\\x04=leR?J4?1=e=i|?l>Ľ>\\x13P?~r?j|?e@?\\x19>l\\x02=\\x1aF?\\x0e?3>\\x06h?=\\\\9>\\x04:<J>Cf=V==2&?>?W\\x15?Pv?\\t>H>\\\\^?Od>v?#G<Ix?s0=!d?k\\x17\\x07?2~?\"=e\\r?6$x?\\x05?E !?\\x1c2?> ?\\x15?Kf?%:=hڏ>+Ns?Tc?K>\\x03\\x1e?\\x04>բ@>i>>}j\\x15?V3=qy?Ox|?2?=\\t?gz>TP?J/?\\x0e&>2i?͑R?\\x16&s?9?\\x08\\x1d?#>Kn?]]?679=<ο>lO?!|?\\x06\\x1a>\\x18\\x18? \\x04>OLx?\\x1bW?V?>9c>\\x03>f=r^]?H\\x1aP?\\x7f\\x7f?#\\x7f?0\\x0e?\\\\D?+q?~Y?H}>>^B\\x04><t?C.\\x1b?W!j>+?=\\x1e?\\x1ba>=9+?2\\x05?E?o)\\x05?(Z?I\\r?\\x0f?_l`?N>J;\\t><PA?\\x1e?>4?G\\x13Z>\\x0b>Ln<6>\\x04\\x17?6>>vg?N>є\\x03?|H?\\x07>\\x13A\\x1f?\\\\?\\x13s?n\\x16>4m?>8>\\x13>jz?p8>\"R>&\"?u><^=\\x0c\\x03>s\\x1e\\x03>a\\x1b>(\\x0e>^\\x10$?>:>M>e?\\x1a>\\x10*?t0>jD>e\\'=P,>e>=B5>=\\x0f=2>%IS>>\\x00?0?\\x05!=)L?\\x14 ?Hq=٢_?Kk?,z=\\x8d>5cN???\\x14<>_V>>f\\x13>E\\x1e?@>Z>AZ?? A\\x16=j?>\\x146?F,e?K\\x02?8\\x08?\\x00}=<\\x13>Y\\x08?0Jx>@ډ>d+>Zl<>ԅX>>E=c?\\x17?-? \\x07J?3>D\\x03=\\x7f\\t?8;\\x16?\\x1f>?{\\x02>i\\x02>\\x13K>>Z%?\\x1e\\x12?OR>C|?\\x0f\\x14\\x1b?r>Ts=\\x1b\\x1c>X{>$>m\\x0b?>>و1>ke?Q=aF\\x06?\\x1f>*}{?t=>7/x?]?+Q?\\x0b>(.>4,+?m?\\x03\\x0e?6U\\x12?kY>}D?e?>I>>\\x01?B:x>/=Q\\x1c?bǓ>\\x07\\x14?B\\x11\\x1e>W>W\\x08?DT=eW>\\x00\\t>ʁ=\\tn}?\\x0b>SO?C`>v.?KB?{\\x18?or>>ݞ>m?yT?\\x01\\x0cw?=!\\x1a;?\\x157p?)9>2/=\\x15=?\\x10\\x13?\\x17W?} \\x0f>K?dwN>l\\'>K5(>P?]J*?\\x05?>7`?>\\x0cQ?J>>]>3N>Tc??I\\x00?*m>Jf?d>H&\\x0b?\\x0eh?\\x10\\x1f?=h=טp?z ?x>W\\x0e><EK?\\x17\\x1e?\\x08?%d?I?P\\x1b>\\t>s~>Ds>?NY\\t=J\\x11?~0C?s`?W%>=R?=\\x19X?c\\x02>=i>\\x1bL?\\x19>j>8?QT8?@\"$?1?\\n?>\\x11>9>7h?*Y\\x15?f<>\\x06>)r?&\\x08\\x1d>)\\x13\\x16?\\x01?D\\x1c?[<C_?Nn?\\x10?W2?(l?\\r5?23\\x1c>\\x13?Q\\x1b?\\'><?2o?\\x0fl?k>Y=\\x1e|?\\x06V?&O=Kk?^?\\x04?]\\x17?\\x15J>M`=>·M?:ȗ;g>>\\x92\\t?{k?CT>ڣ><?\\x1c>e>\\'><\\x10>ʞ4>\\x10*>f}>W3j?>p\\x14?\\x13!?\"V<)?\\x0fO6>\\x08v?\\x0b;\\x18>I>ˮ=\\'3\\x7f?ڏ\\x00?\\'k\\x18?d_=i??~V>e? \\x10R>CC>\\x1b\\x15=²>n\\x10?@=F?y\\x15>q>\\x06?>0>D\\x0f?M\\x1e>^K:>\\\\?4r?f\">\\x0c>\\'$?E>\\x0c<w\\x1f>I7?=(?j<Lc>ߞl>*\\x01,?w<6=ML?i6>^\\x1a\\'?0s>=!\\x02y>|8?\\x0e[?JT?[>\\x07+?gQ>v\\x17>Dve?\\x05\\x06U<\\x19\\x1f=\"T>\\x10Z<69>6B\\x15?>\"d?CQ?\\x02>&ӄ>\\x0bg>\\x1d\\x17??>9\\x1f?g>R\\r?K>7Ė>r?{C?y\\x0f>S^?>`\\x01e?PL?>\\x11<\\x14>\\n?+\"?\\t>\\\\\\x0e>U?\\x01|?\\x06?/>k>\\x0b<}\\x0fj?{\\'=\\x13?P>\\r?}&?iT?\\x19`S>\\'4<+\\x0c>gf?C_?\\x11\\x18?y\\x19??*?3>\\x16j?\\x17i>*>\\x04?c_@=0F*><?'}, {'id': 'data:01K6FDPM4462SK0N331ZNC4EA5', 'vector_distance': '-1.19209289551e-07', 'vector': 'ÿ>\\x03bs?c;?A\\x19?Z\\x1f>\\x07\\x1f>\\x15m=]?\\x19??D5?Р<\\x03Lx?\\x1aU?moY>S0:>d;>ś>pV\\x06?\\'>\\x1b>d\\x1c?{\\x0e>>ȓ>\\x01>K\\x01I?IwL>ޤ\\x03?{\\x17?B>=\\x0f\\x1b?.>9=*r?3w?!N?V>Q\\x08=)/?[>/=ԇ>\\x0c=9h?~>\\x0f)?>.#\\x05?4\\x0b?}J=>6x?\\x1boF?\\x01p?h\\x13e?\\x0f\\x19?k?;=H>@@9=>\\x00>C>$(T?_>֏>!\\n?qN\\x10>\\\\M?\\x02=|?ձE? |K>;\\x15P?4?7:?qE?=҈>L=Y\\\\?w\\x1f?wk>*=\\x139>n~>x:?6#?` c?(>=66?B?ݯ\\x0f?\\x1b^E?>\\x05?>;<.=\\x00=\"?D>1\\x02?GVh?vF\\x7f>\\x1d>kA?\\x11Jj>=MZ>1\\x17%>\\x00n?N?&\"?\\x0b\\x18_?tM?9\\x0c?>~d?U\\x12\\n?fN?=fe?ZѢ>b=gi>߭>jiQ?X\\\\?;V\\x02?>;pc>{=۬>bq?z>v\\x04?\\r3?->x?bv?>[>\\x0c>֑>\\x16\\x17=h\\x0c\\x1c?\\x00?bR=>\\x1dh?Ou>R_\\x14>>S|?Vw>\\x13\\x11,?B?BWs>cl:?\\x12N>!?\\x01/\"?(\\t?=bU?I=>>>\\x03\\'=D\\x17?t-?3<\\x18\\x03?g>\\x0b*%?\\x1d2>L0?-\\x02>o?J\\x0c>@>d=l?P`?\\x10>(?y5Q?!\\x0e?.\\x07? w>=e?́f?\\x12\"?P>˲>;9?\\x05e?\\x19\\x18c?G?0\\\\$?Q=%>\\x07f?>\\x1b?;\\x16<P=@)?ۥ;ު$>y\\x0c?\\x0b 1?&?ۦe>aQ6?mr>ʚ>\\x10\\x1a??WN&?fY?RY(?|\\x11?ؿ=?E>ȇ>ly>8\\x17y?\\x1bD>*]d?M!?xK?Ӭ\\x00?\\x13?G+>G>8?e>G2<=%?\\\\5>p?4t?4j?q>=}<Im?:>vw?̯v?^Z?\\x01\\x96>+>\\x18Y?C>->\\x0e?קo?\\x02/2?\\x11?x\\x04=\\x1dq\\x1d?+t}?/r\\x0f>A\\x04?`?\\x03=?o2?3?9\\x0f>Q>K2O?cO?t]?\"i?V\\x02?_c\\x00?\\x13]L?\\td&?\\x1a3?\\x12K?dc?\\r>iL>y=+\\n\\x14?58\\x13=b>\\n?>@\\x17?<j\\x18=R?j>\\'\\x1c\\x02>\\x05?L\\x1eE?0\\x00]>u\\x1f?ʮ=6S=\\x06\\x08?\\x10g\\n?.#?\\x1f9?qy?B,\\x04?Z>SK?>>=]< pv?\\x02V?^+2?Hb>\\x11t1>\\x081 >\\x1f>\\x1e\\x0c?6?\\x02)?\\x7fS>\\rrt?<?&\\r?\\x1c?>1}>\\rB>4\\x02B?k<~=Dm<=?&=wZ?\"4?>G]=\\x13>j>[1>!>\\x08>Z\\x1d?\\x7f\"?9=:Ϳ>[8 ?\\x00?B[?%(?H&>Y=u$??.<c\\x15?p?GR\\x13?5>$?\\x1f>\\x0b?\\x03q??>\\x10v?\\x0fg?y}H>L\\r=d=E<Pk=.?[ˑ=P>IX?ɤ<\\x02P?EO>g\\x00=^]2?f\\x02!?\\x02`?-<?M?f>5>J(@?N?}?B>(y>\\x00F?}>\\x1dFn?[?\\x1b>\\x169@?)A?2=\\rg?8X\\x01?S?ݣ>\\x03Ae?qE>h1<\\x1dg?=\\x14}>C7s?Zs?\\x12?\\x15!?>\\x1f>F>+*,?@?J?j$J?Dʺ=$>k=\\x0c?I\\x10>@c?\">=il\\x12>\\\\B?C\\x1e?h\\x19=0@=r3?\\x04=leR?J4?1=e=i|?l>Ľ>\\x13P?~r?j|?e@?\\x19>l\\x02=\\x1aF?\\x0e?3>\\x06h?=\\\\9>\\x04:<J>Cf=V==2&?>?W\\x15?Pv?\\t>H>\\\\^?Od>v?#G<Ix?s0=!d?k\\x17\\x07?2~?\"=e\\r?6$x?\\x05?E !?\\x1c2?> ?\\x15?Kf?%:=hڏ>+Ns?Tc?K>\\x03\\x1e?\\x04>բ@>i>>}j\\x15?V3=qy?Ox|?2?=\\t?gz>TP?J/?\\x0e&>2i?͑R?\\x16&s?9?\\x08\\x1d?#>Kn?]]?679=<ο>lO?!|?\\x06\\x1a>\\x18\\x18? \\x04>OLx?\\x1bW?V?>9c>\\x03>f=r^]?H\\x1aP?\\x7f\\x7f?#\\x7f?0\\x0e?\\\\D?+q?~Y?H}>>^B\\x04><t?C.\\x1b?W!j>+?=\\x1e?\\x1ba>=9+?2\\x05?E?o)\\x05?(Z?I\\r?\\x0f?_l`?N>J;\\t><PA?\\x1e?>4?G\\x13Z>\\x0b>Ln<6>\\x04\\x17?6>>vg?N>є\\x03?|H?\\x07>\\x13A\\x1f?\\\\?\\x13s?n\\x16>4m?>8>\\x13>jz?p8>\"R>&\"?u><^=\\x0c\\x03>s\\x1e\\x03>a\\x1b>(\\x0e>^\\x10$?>:>M>e?\\x1a>\\x10*?t0>jD>e\\'=P,>e>=B5>=\\x0f=2>%IS>>\\x00?0?\\x05!=)L?\\x14 ?Hq=٢_?Kk?,z=\\x8d>5cN???\\x14<>_V>>f\\x13>E\\x1e?@>Z>AZ?? A\\x16=j?>\\x146?F,e?K\\x02?8\\x08?\\x00}=<\\x13>Y\\x08?0Jx>@ډ>d+>Zl<>ԅX>>E=c?\\x17?-? \\x07J?3>D\\x03=\\x7f\\t?8;\\x16?\\x1f>?{\\x02>i\\x02>\\x13K>>Z%?\\x1e\\x12?OR>C|?\\x0f\\x14\\x1b?r>Ts=\\x1b\\x1c>X{>$>m\\x0b?>>و1>ke?Q=aF\\x06?\\x1f>*}{?t=>7/x?]?+Q?\\x0b>(.>4,+?m?\\x03\\x0e?6U\\x12?kY>}D?e?>I>>\\x01?B:x>/=Q\\x1c?bǓ>\\x07\\x14?B\\x11\\x1e>W>W\\x08?DT=eW>\\x00\\t>ʁ=\\tn}?\\x0b>SO?C`>v.?KB?{\\x18?or>>ݞ>m?yT?\\x01\\x0cw?=!\\x1a;?\\x157p?)9>2/=\\x15=?\\x10\\x13?\\x17W?} \\x0f>K?dwN>l\\'>K5(>P?]J*?\\x05?>7`?>\\x0cQ?J>>]>3N>Tc??I\\x00?*m>Jf?d>H&\\x0b?\\x0eh?\\x10\\x1f?=h=טp?z ?x>W\\x0e><EK?\\x17\\x1e?\\x08?%d?I?P\\x1b>\\t>s~>Ds>?NY\\t=J\\x11?~0C?s`?W%>=R?=\\x19X?c\\x02>=i>\\x1bL?\\x19>j>8?QT8?@\"$?1?\\n?>\\x11>9>7h?*Y\\x15?f<>\\x06>)r?&\\x08\\x1d>)\\x13\\x16?\\x01?D\\x1c?[<C_?Nn?\\x10?W2?(l?\\r5?23\\x1c>\\x13?Q\\x1b?\\'><?2o?\\x0fl?k>Y=\\x1e|?\\x06V?&O=Kk?^?\\x04?]\\x17?\\x15J>M`=>·M?:ȗ;g>>\\x92\\t?{k?CT>ڣ><?\\x1c>e>\\'><\\x10>ʞ4>\\x10*>f}>W3j?>p\\x14?\\x13!?\"V<)?\\x0fO6>\\x08v?\\x0b;\\x18>I>ˮ=\\'3\\x7f?ڏ\\x00?\\'k\\x18?d_=i??~V>e? \\x10R>CC>\\x1b\\x15=²>n\\x10?@=F?y\\x15>q>\\x06?>0>D\\x0f?M\\x1e>^K:>\\\\?4r?f\">\\x0c>\\'$?E>\\x0c<w\\x1f>I7?=(?j<Lc>ߞl>*\\x01,?w<6=ML?i6>^\\x1a\\'?0s>=!\\x02y>|8?\\x0e[?JT?[>\\x07+?gQ>v\\x17>Dve?\\x05\\x06U<\\x19\\x1f=\"T>\\x10Z<69>6B\\x15?>\"d?CQ?\\x02>&ӄ>\\x0bg>\\x1d\\x17??>9\\x1f?g>R\\r?K>7Ė>r?{C?y\\x0f>S^?>`\\x01e?PL?>\\x11<\\x14>\\n?+\"?\\t>\\\\\\x0e>U?\\x01|?\\x06?/>k>\\x0b<}\\x0fj?{\\'=\\x13?P>\\r?}&?iT?\\x19`S>\\'4<+\\x0c>gf?C_?\\x11\\x18?y\\x19??*?3>\\x16j?\\x17i>*>\\x04?c_@=0F*><?'}, {'id': 'data:01K6FE2PSP5MK7AYZZ6MY3VPDP', 'vector_distance': '-1.19209289551e-07', 'vector': 'ÿ>\\x03bs?c;?A\\x19?Z\\x1f>\\x07\\x1f>\\x15m=]?\\x19??D5?Р<\\x03Lx?\\x1aU?moY>S0:>d;>ś>pV\\x06?\\'>\\x1b>d\\x1c?{\\x0e>>ȓ>\\x01>K\\x01I?IwL>ޤ\\x03?{\\x17?B>=\\x0f\\x1b?.>9=*r?3w?!N?V>Q\\x08=)/?[>/=ԇ>\\x0c=9h?~>\\x0f)?>.#\\x05?4\\x0b?}J=>6x?\\x1boF?\\x01p?h\\x13e?\\x0f\\x19?k?;=H>@@9=>\\x00>C>$(T?_>֏>!\\n?qN\\x10>\\\\M?\\x02=|?ձE? |K>;\\x15P?4?7:?qE?=҈>L=Y\\\\?w\\x1f?wk>*=\\x139>n~>x:?6#?` c?(>=66?B?ݯ\\x0f?\\x1b^E?>\\x05?>;<.=\\x00=\"?D>1\\x02?GVh?vF\\x7f>\\x1d>kA?\\x11Jj>=MZ>1\\x17%>\\x00n?N?&\"?\\x0b\\x18_?tM?9\\x0c?>~d?U\\x12\\n?fN?=fe?ZѢ>b=gi>߭>jiQ?X\\\\?;V\\x02?>;pc>{=۬>bq?z>v\\x04?\\r3?->x?bv?>[>\\x0c>֑>\\x16\\x17=h\\x0c\\x1c?\\x00?bR=>\\x1dh?Ou>R_\\x14>>S|?Vw>\\x13\\x11,?B?BWs>cl:?\\x12N>!?\\x01/\"?(\\t?=bU?I=>>>\\x03\\'=D\\x17?t-?3<\\x18\\x03?g>\\x0b*%?\\x1d2>L0?-\\x02>o?J\\x0c>@>d=l?P`?\\x10>(?y5Q?!\\x0e?.\\x07? w>=e?́f?\\x12\"?P>˲>;9?\\x05e?\\x19\\x18c?G?0\\\\$?Q=%>\\x07f?>\\x1b?;\\x16<P=@)?ۥ;ު$>y\\x0c?\\x0b 1?&?ۦe>aQ6?mr>ʚ>\\x10\\x1a??WN&?fY?RY(?|\\x11?ؿ=?E>ȇ>ly>8\\x17y?\\x1bD>*]d?M!?xK?Ӭ\\x00?\\x13?G+>G>8?e>G2<=%?\\\\5>p?4t?4j?q>=}<Im?:>vw?̯v?^Z?\\x01\\x96>+>\\x18Y?C>->\\x0e?קo?\\x02/2?\\x11?x\\x04=\\x1dq\\x1d?+t}?/r\\x0f>A\\x04?`?\\x03=?o2?3?9\\x0f>Q>K2O?cO?t]?\"i?V\\x02?_c\\x00?\\x13]L?\\td&?\\x1a3?\\x12K?dc?\\r>iL>y=+\\n\\x14?58\\x13=b>\\n?>@\\x17?<j\\x18=R?j>\\'\\x1c\\x02>\\x05?L\\x1eE?0\\x00]>u\\x1f?ʮ=6S=\\x06\\x08?\\x10g\\n?.#?\\x1f9?qy?B,\\x04?Z>SK?>>=]< pv?\\x02V?^+2?Hb>\\x11t1>\\x081 >\\x1f>\\x1e\\x0c?6?\\x02)?\\x7fS>\\rrt?<?&\\r?\\x1c?>1}>\\rB>4\\x02B?k<~=Dm<=?&=wZ?\"4?>G]=\\x13>j>[1>!>\\x08>Z\\x1d?\\x7f\"?9=:Ϳ>[8 ?\\x00?B[?%(?H&>Y=u$??.<c\\x15?p?GR\\x13?5>$?\\x1f>\\x0b?\\x03q??>\\x10v?\\x0fg?y}H>L\\r=d=E<Pk=.?[ˑ=P>IX?ɤ<\\x02P?EO>g\\x00=^]2?f\\x02!?\\x02`?-<?M?f>5>J(@?N?}?B>(y>\\x00F?}>\\x1dFn?[?\\x1b>\\x169@?)A?2=\\rg?8X\\x01?S?ݣ>\\x03Ae?qE>h1<\\x1dg?=\\x14}>C7s?Zs?\\x12?\\x15!?>\\x1f>F>+*,?@?J?j$J?Dʺ=$>k=\\x0c?I\\x10>@c?\">=il\\x12>\\\\B?C\\x1e?h\\x19=0@=r3?\\x04=leR?J4?1=e=i|?l>Ľ>\\x13P?~r?j|?e@?\\x19>l\\x02=\\x1aF?\\x0e?3>\\x06h?=\\\\9>\\x04:<J>Cf=V==2&?>?W\\x15?Pv?\\t>H>\\\\^?Od>v?#G<Ix?s0=!d?k\\x17\\x07?2~?\"=e\\r?6$x?\\x05?E !?\\x1c2?> ?\\x15?Kf?%:=hڏ>+Ns?Tc?K>\\x03\\x1e?\\x04>բ@>i>>}j\\x15?V3=qy?Ox|?2?=\\t?gz>TP?J/?\\x0e&>2i?͑R?\\x16&s?9?\\x08\\x1d?#>Kn?]]?679=<ο>lO?!|?\\x06\\x1a>\\x18\\x18? \\x04>OLx?\\x1bW?V?>9c>\\x03>f=r^]?H\\x1aP?\\x7f\\x7f?#\\x7f?0\\x0e?\\\\D?+q?~Y?H}>>^B\\x04><t?C.\\x1b?W!j>+?=\\x1e?\\x1ba>=9+?2\\x05?E?o)\\x05?(Z?I\\r?\\x0f?_l`?N>J;\\t><PA?\\x1e?>4?G\\x13Z>\\x0b>Ln<6>\\x04\\x17?6>>vg?N>є\\x03?|H?\\x07>\\x13A\\x1f?\\\\?\\x13s?n\\x16>4m?>8>\\x13>jz?p8>\"R>&\"?u><^=\\x0c\\x03>s\\x1e\\x03>a\\x1b>(\\x0e>^\\x10$?>:>M>e?\\x1a>\\x10*?t0>jD>e\\'=P,>e>=B5>=\\x0f=2>%IS>>\\x00?0?\\x05!=)L?\\x14 ?Hq=٢_?Kk?,z=\\x8d>5cN???\\x14<>_V>>f\\x13>E\\x1e?@>Z>AZ?? A\\x16=j?>\\x146?F,e?K\\x02?8\\x08?\\x00}=<\\x13>Y\\x08?0Jx>@ډ>d+>Zl<>ԅX>>E=c?\\x17?-? \\x07J?3>D\\x03=\\x7f\\t?8;\\x16?\\x1f>?{\\x02>i\\x02>\\x13K>>Z%?\\x1e\\x12?OR>C|?\\x0f\\x14\\x1b?r>Ts=\\x1b\\x1c>X{>$>m\\x0b?>>و1>ke?Q=aF\\x06?\\x1f>*}{?t=>7/x?]?+Q?\\x0b>(.>4,+?m?\\x03\\x0e?6U\\x12?kY>}D?e?>I>>\\x01?B:x>/=Q\\x1c?bǓ>\\x07\\x14?B\\x11\\x1e>W>W\\x08?DT=eW>\\x00\\t>ʁ=\\tn}?\\x0b>SO?C`>v.?KB?{\\x18?or>>ݞ>m?yT?\\x01\\x0cw?=!\\x1a;?\\x157p?)9>2/=\\x15=?\\x10\\x13?\\x17W?} \\x0f>K?dwN>l\\'>K5(>P?]J*?\\x05?>7`?>\\x0cQ?J>>]>3N>Tc??I\\x00?*m>Jf?d>H&\\x0b?\\x0eh?\\x10\\x1f?=h=טp?z ?x>W\\x0e><EK?\\x17\\x1e?\\x08?%d?I?P\\x1b>\\t>s~>Ds>?NY\\t=J\\x11?~0C?s`?W%>=R?=\\x19X?c\\x02>=i>\\x1bL?\\x19>j>8?QT8?@\"$?1?\\n?>\\x11>9>7h?*Y\\x15?f<>\\x06>)r?&\\x08\\x1d>)\\x13\\x16?\\x01?D\\x1c?[<C_?Nn?\\x10?W2?(l?\\r5?23\\x1c>\\x13?Q\\x1b?\\'><?2o?\\x0fl?k>Y=\\x1e|?\\x06V?&O=Kk?^?\\x04?]\\x17?\\x15J>M`=>·M?:ȗ;g>>\\x92\\t?{k?CT>ڣ><?\\x1c>e>\\'><\\x10>ʞ4>\\x10*>f}>W3j?>p\\x14?\\x13!?\"V<)?\\x0fO6>\\x08v?\\x0b;\\x18>I>ˮ=\\'3\\x7f?ڏ\\x00?\\'k\\x18?d_=i??~V>e? \\x10R>CC>\\x1b\\x15=²>n\\x10?@=F?y\\x15>q>\\x06?>0>D\\x0f?M\\x1e>^K:>\\\\?4r?f\">\\x0c>\\'$?E>\\x0c<w\\x1f>I7?=(?j<Lc>ߞl>*\\x01,?w<6=ML?i6>^\\x1a\\'?0s>=!\\x02y>|8?\\x0e[?JT?[>\\x07+?gQ>v\\x17>Dve?\\x05\\x06U<\\x19\\x1f=\"T>\\x10Z<69>6B\\x15?>\"d?CQ?\\x02>&ӄ>\\x0bg>\\x1d\\x17??>9\\x1f?g>R\\r?K>7Ė>r?{C?y\\x0f>S^?>`\\x01e?PL?>\\x11<\\x14>\\n?+\"?\\t>\\\\\\x0e>U?\\x01|?\\x06?/>k>\\x0b<}\\x0fj?{\\'=\\x13?P>\\r?}&?iT?\\x19`S>\\'4<+\\x0c>gf?C_?\\x11\\x18?y\\x19??*?3>\\x16j?\\x17i>*>\\x04?c_@=0F*><?'}]\n",
      "Query executed.\n",
      "Results: 3\n",
      "Vector query execution took: 0.0009 seconds\n"
     ]
    }
   ],
   "source": [
    "#lets query redis\n",
    "with timer(\"Vector query execution\"):\n",
    "    query = VectorQuery(\n",
    "        vector=fake_embeddings[0],\n",
    "        vector_field_name=\"vector\",\n",
    "        num_results=3,\n",
    "        return_fields=[\"vector\"],\n",
    "        return_score=True,\n",
    "    )\n",
    "    results = flat_index.query(query)\n",
    "    print(results)\n",
    "    print(\"Query executed.\")\n",
    "    print(\"Results:\", len( results))"
   ]
  },
  {
   "cell_type": "code",
   "execution_count": 11,
   "id": "65d4b2f2",
   "metadata": {},
   "outputs": [
    {
     "name": "stdout",
     "output_type": "stream",
     "text": [
      "08:26:33 redisvl.index.index INFO   Index already exists, overwriting.\n",
      "Index creation took: 0.0016 seconds\n"
     ]
    }
   ],
   "source": [
    "hnsw_schema = IndexSchema.from_dict(\n",
    "    {\n",
    "        \"index\": {\"name\": \"redishnsw\", \"prefix\": prefix, \"storage_type\": \"hash\"},\n",
    "        \"fields\": [\n",
    "            {\n",
    "                \"name\": \"vector\",\n",
    "                \"type\": \"vector\",\n",
    "                \"attrs\": {\n",
    "                    \"dims\": dimension,\n",
    "                    \"distance_metric\": distance_metric,\n",
    "                    \"algorithm\": \"hnsw\",\n",
    "                    \"datatype\": datatype,\n",
    "                },\n",
    "            },\n",
    "            {\n",
    "                \"name\": \"id\",\n",
    "                \"type\": \"text\",\n",
    "            },\n",
    "        ],\n",
    "    }\n",
    ")\n",
    "\n",
    "with timer(\"Index creation\"):\n",
    "    hnsw_index = SearchIndex(hnsw_schema, client,validate_on_load=True)\n",
    "    hnsw_index.create(overwrite=True, drop=False )"
   ]
  },
  {
   "cell_type": "code",
   "execution_count": 12,
   "id": "8f0a1bf2",
   "metadata": {},
   "outputs": [
    {
     "name": "stdout",
     "output_type": "stream",
     "text": [
      "2025-10-01 08:26:33.175849\n",
      "[{'id': 'data:01K6FE2PSP5MK7AYZZ6MY3VPDP', 'vector_distance': '-1.19209289551e-07'}, {'id': 'data:01K6FDPM479JQANAQ9RPWT79JT', 'vector_distance': '0.238311231136'}, {'id': 'data:01K6FE1CHTWYMEZ1PGZCSS9ZKW', 'vector_distance': '0.238311231136'}]\n",
      "Query executed.\n",
      "Results: 3\n",
      "Vector query execution took: 0.0027 seconds\n"
     ]
    }
   ],
   "source": [
    "from datetime import datetime\n",
    "\n",
    "current_time = datetime.now()\n",
    "print(current_time)\n",
    "#lets query redis\n",
    "with timer(\"Vector query execution\"):\n",
    "    query = VectorQuery(\n",
    "        vector=fake_embeddings[0],\n",
    "        vector_field_name=\"vector\",\n",
    "        num_results=3,\n",
    "        return_fields=[\"id\"],\n",
    "        return_score=True,\n",
    "    )\n",
    "    results = hnsw_index.query(query)\n",
    "    print(results)\n",
    "    print(\"Query executed.\")\n",
    "    print(\"Results:\", len( results))"
   ]
  }
 ],
 "metadata": {
  "kernelspec": {
   "display_name": ".venv",
   "language": "python",
   "name": "python3"
  },
  "language_info": {
   "codemirror_mode": {
    "name": "ipython",
    "version": 3
   },
   "file_extension": ".py",
   "mimetype": "text/x-python",
   "name": "python",
   "nbconvert_exporter": "python",
   "pygments_lexer": "ipython3",
   "version": "3.13.7"
  }
 },
 "nbformat": 4,
 "nbformat_minor": 5
}
