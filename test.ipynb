{
 "cells": [
  {
   "cell_type": "code",
   "execution_count": 1,
   "id": "58449421",
   "metadata": {},
   "outputs": [],
   "source": [
    "import os\n",
    "import time\n",
    "from contextlib import contextmanager\n",
    "from redis import Redis\n",
    "from redisvl.schema import IndexSchema\n",
    "from redisvl.index import SearchIndex\n",
    "from redisvl.query import VectorQuery\n",
    "\n",
    "import numpy as np"
   ]
  },
  {
   "cell_type": "code",
   "execution_count": 2,
   "id": "d7159822",
   "metadata": {},
   "outputs": [],
   "source": [
    "@contextmanager\n",
    "def timer(operation_name=\"Operation\"):\n",
    "    \"\"\"Context manager for timing operations.\"\"\"\n",
    "    start_time = time.perf_counter()\n",
    "    yield\n",
    "    end_time = time.perf_counter()\n",
    "    print(f\"{operation_name} took: {end_time - start_time:.4f} seconds\")\n",
    "\n",
    "\n",
    "def generate_fake_embeddings(num_embeddings=10, embedding_dim=128, type=np.float32 ,seed=None):\n",
    "    \"\"\"\n",
    "    Generate fake embeddings using random numbers.\n",
    "\n",
    "    Args:\n",
    "        num_embeddings (int): Number of embeddings to generate.\n",
    "        embedding_dim (int): Dimension of each embedding vector.\n",
    "        seed (int, optional): Random seed for reproducibility.\n",
    "\n",
    "    Returns:\n",
    "        np.ndarray: A matrix of shape (num_embeddings, embedding_dim) with fake embeddings.\n",
    "    \"\"\"\n",
    "    if seed is not None:\n",
    "        np.random.seed(seed)\n",
    "\n",
    "    embeddings = np.random.rand(num_embeddings, embedding_dim).astype(np.float32)\n",
    "    return embeddings\n"
   ]
  },
  {
   "cell_type": "code",
   "execution_count": 3,
   "id": "0be0d481",
   "metadata": {},
   "outputs": [],
   "source": [
    "REDIS_HOST = os.getenv(\"REDIS_HOST\", \"localhost\")\n",
    "REDIS_PORT = os.getenv(\"REDIS_PORT\", \"6379\")  # ex: 18374\n",
    "REDIS_PASSWORD = os.getenv(\"REDIS_PASSWORD\", \"\")  # ex: \"1TNxTEdYRDgIDKM2gDfasupCADXXXX\""
   ]
  },
  {
   "cell_type": "code",
   "execution_count": 4,
   "id": "30aad35d",
   "metadata": {},
   "outputs": [
    {
     "name": "stdout",
     "output_type": "stream",
     "text": [
      "True\n"
     ]
    }
   ],
   "source": [
    "REDIS_URL = f\"redis://:{REDIS_PASSWORD}@{REDIS_HOST}:{REDIS_PORT}\"\n",
    "client = Redis.from_url(REDIS_URL)\n",
    "print(client.ping())"
   ]
  },
  {
   "cell_type": "code",
   "execution_count": 5,
   "id": "07405348",
   "metadata": {},
   "outputs": [],
   "source": [
    "  # Define the index name\n",
    "data_size = 100\n",
    "dimension = 960 \n",
    "datatype = \"float32\" \n",
    "\n",
    "index_name = \"redisflat\"\n",
    "algorithm = \"flat\" \n",
    "#algorithm = \"hnsw\" \n",
    "distance_metric = \"cosine\" \n",
    "\n",
    "\n",
    "\n",
    "# define the scheama\n",
    "flat_schema = IndexSchema.from_dict(\n",
    "    {\n",
    "        \"index\": {\"name\": index_name, \"prefix\": index_name, \"storage_type\": \"hash\"},\n",
    "        \"fields\": [\n",
    "            {\n",
    "                \"name\": \"vector\",\n",
    "                \"type\": \"vector\",\n",
    "                \"attrs\": {\n",
    "                    \"dims\": dimension,\n",
    "                    \"distance_metric\": distance_metric,\n",
    "                    \"algorithm\": \"flat\",\n",
    "                    \"datatype\": datatype,\n",
    "                },\n",
    "            },\n",
    "            {\n",
    "                \"name\": \"id\",\n",
    "                \"type\": \"text\",\n",
    "            },\n",
    "        ],\n",
    "    }\n",
    ")"
   ]
  },
  {
   "cell_type": "code",
   "execution_count": 6,
   "id": "b06e1d2c",
   "metadata": {},
   "outputs": [
    {
     "name": "stdout",
     "output_type": "stream",
     "text": [
      "Index creation took: 0.0028 seconds\n"
     ]
    }
   ],
   "source": [
    "with timer(\"Index creation\"):\n",
    "    flatindex = SearchIndex(flat_schema, client,validate_on_load=True)\n",
    "    flatindex.create(overwrite=True, drop=False )"
   ]
  },
  {
   "cell_type": "code",
   "execution_count": 7,
   "id": "1b05ca94",
   "metadata": {},
   "outputs": [
    {
     "name": "stdout",
     "output_type": "stream",
     "text": [
      "Fake embeddings generated.\n",
      "Generating fake embeddings took: 1.1554 seconds\n"
     ]
    }
   ],
   "source": [
    "with timer(\"Generating fake embeddings\"):\n",
    "    fake_embeddings = generate_fake_embeddings(\n",
    "        num_embeddings=data_size, embedding_dim=dimension, type=type ,seed=42\n",
    "    )\n",
    "    print(\"Fake embeddings generated.\")"
   ]
  },
  {
   "cell_type": "code",
   "execution_count": 8,
   "id": "94d56b17",
   "metadata": {},
   "outputs": [
    {
     "name": "stdout",
     "output_type": "stream",
     "text": [
      "Data prepared for loading into index.\n",
      "Data preparation took: 0.0001 seconds\n",
      "Data loaded into index.\n",
      "Data loading into index took: 0.0504 seconds\n"
     ]
    }
   ],
   "source": [
    "# data with other fields\n",
    "#data = [{\"id\": i, \"vector\": e.tobytes()} for i, e in enumerate(fake_embeddings)]\n",
    "#print(\"Data prepared for loading into index.\")\n",
    "#index.load(data, id_field=\"id\")\n",
    "#print(\"Data loaded into index.\")\n",
    "\n",
    "with timer(\"Data preparation\"):\n",
    "    data = [{\"id\": \"document:\" +str(i),\"vector\": e.tobytes()} for i, e in enumerate(fake_embeddings)]\n",
    "    #data = [{\"vector\": e.tobytes()} for i, e in enumerate(fake_embeddings)]\n",
    "    print(\"Data prepared for loading into index.\")\n",
    "\n",
    "with timer(\"Data loading into index\"):\n",
    "    flatindex.load(data)\n",
    "    print(\"Data loaded into index.\")"
   ]
  },
  {
   "cell_type": "code",
   "execution_count": 9,
   "id": "aa258423",
   "metadata": {},
   "outputs": [
    {
     "name": "stdout",
     "output_type": "stream",
     "text": [
      "[{'id': 'redisflat:01K6F8BCNH9863VDJ70KMJPMW3', 'vector': 'ÿ>\\x03bs?c;?A\\x19?Z\\x1f>\\x07\\x1f>\\x15m=]?\\x19??D5?Р<\\x03Lx?\\x1aU?moY>S0:>d;>ś>pV\\x06?\\'>\\x1b>d\\x1c?{\\x0e>>ȓ>\\x01>K\\x01I?IwL>ޤ\\x03?{\\x17?B>=\\x0f\\x1b?.>9=*r?3w?!N?V>Q\\x08=)/?[>/=ԇ>\\x0c=9h?~>\\x0f)?>.#\\x05?4\\x0b?}J=>6x?\\x1boF?\\x01p?h\\x13e?\\x0f\\x19?k?;=H>@@9=>\\x00>C>$(T?_>֏>!\\n?qN\\x10>\\\\M?\\x02=|?ձE? |K>;\\x15P?4?7:?qE?=҈>L=Y\\\\?w\\x1f?wk>*=\\x139>n~>x:?6#?` c?(>=66?B?ݯ\\x0f?\\x1b^E?>\\x05?>;<.=\\x00=\"?D>1\\x02?GVh?vF\\x7f>\\x1d>kA?\\x11Jj>=MZ>1\\x17%>\\x00n?N?&\"?\\x0b\\x18_?tM?9\\x0c?>~d?U\\x12\\n?fN?=fe?ZѢ>b=gi>߭>jiQ?X\\\\?;V\\x02?>;pc>{=۬>bq?z>v\\x04?\\r3?->x?bv?>[>\\x0c>֑>\\x16\\x17=h\\x0c\\x1c?\\x00?bR=>\\x1dh?Ou>R_\\x14>>S|?Vw>\\x13\\x11,?B?BWs>cl:?\\x12N>!?\\x01/\"?(\\t?=bU?I=>>>\\x03\\'=D\\x17?t-?3<\\x18\\x03?g>\\x0b*%?\\x1d2>L0?-\\x02>o?J\\x0c>@>d=l?P`?\\x10>(?y5Q?!\\x0e?.\\x07? w>=e?́f?\\x12\"?P>˲>;9?\\x05e?\\x19\\x18c?G?0\\\\$?Q=%>\\x07f?>\\x1b?;\\x16<P=@)?ۥ;ު$>y\\x0c?\\x0b 1?&?ۦe>aQ6?mr>ʚ>\\x10\\x1a??WN&?fY?RY(?|\\x11?ؿ=?E>ȇ>ly>8\\x17y?\\x1bD>*]d?M!?xK?Ӭ\\x00?\\x13?G+>G>8?e>G2<=%?\\\\5>p?4t?4j?q>=}<Im?:>vw?̯v?^Z?\\x01\\x96>+>\\x18Y?C>->\\x0e?קo?\\x02/2?\\x11?x\\x04=\\x1dq\\x1d?+t}?/r\\x0f>A\\x04?`?\\x03=?o2?3?9\\x0f>Q>K2O?cO?t]?\"i?V\\x02?_c\\x00?\\x13]L?\\td&?\\x1a3?\\x12K?dc?\\r>iL>y=+\\n\\x14?58\\x13=b>\\n?>@\\x17?<j\\x18=R?j>\\'\\x1c\\x02>\\x05?L\\x1eE?0\\x00]>u\\x1f?ʮ=6S=\\x06\\x08?\\x10g\\n?.#?\\x1f9?qy?B,\\x04?Z>SK?>>=]< pv?\\x02V?^+2?Hb>\\x11t1>\\x081 >\\x1f>\\x1e\\x0c?6?\\x02)?\\x7fS>\\rrt?<?&\\r?\\x1c?>1}>\\rB>4\\x02B?k<~=Dm<=?&=wZ?\"4?>G]=\\x13>j>[1>!>\\x08>Z\\x1d?\\x7f\"?9=:Ϳ>[8 ?\\x00?B[?%(?H&>Y=u$??.<c\\x15?p?GR\\x13?5>$?\\x1f>\\x0b?\\x03q??>\\x10v?\\x0fg?y}H>L\\r=d=E<Pk=.?[ˑ=P>IX?ɤ<\\x02P?EO>g\\x00=^]2?f\\x02!?\\x02`?-<?M?f>5>J(@?N?}?B>(y>\\x00F?}>\\x1dFn?[?\\x1b>\\x169@?)A?2=\\rg?8X\\x01?S?ݣ>\\x03Ae?qE>h1<\\x1dg?=\\x14}>C7s?Zs?\\x12?\\x15!?>\\x1f>F>+*,?@?J?j$J?Dʺ=$>k=\\x0c?I\\x10>@c?\">=il\\x12>\\\\B?C\\x1e?h\\x19=0@=r3?\\x04=leR?J4?1=e=i|?l>Ľ>\\x13P?~r?j|?e@?\\x19>l\\x02=\\x1aF?\\x0e?3>\\x06h?=\\\\9>\\x04:<J>Cf=V==2&?>?W\\x15?Pv?\\t>H>\\\\^?Od>v?#G<Ix?s0=!d?k\\x17\\x07?2~?\"=e\\r?6$x?\\x05?E !?\\x1c2?> ?\\x15?Kf?%:=hڏ>+Ns?Tc?K>\\x03\\x1e?\\x04>բ@>i>>}j\\x15?V3=qy?Ox|?2?=\\t?gz>TP?J/?\\x0e&>2i?͑R?\\x16&s?9?\\x08\\x1d?#>Kn?]]?679=<ο>lO?!|?\\x06\\x1a>\\x18\\x18? \\x04>OLx?\\x1bW?V?>9c>\\x03>f=r^]?H\\x1aP?\\x7f\\x7f?#\\x7f?0\\x0e?\\\\D?+q?~Y?H}>>^B\\x04><t?C.\\x1b?W!j>+?=\\x1e?\\x1ba>=9+?2\\x05?E?o)\\x05?(Z?I\\r?\\x0f?_l`?N>J;\\t><PA?\\x1e?>4?G\\x13Z>\\x0b>Ln<6>\\x04\\x17?6>>vg?N>є\\x03?|H?\\x07>\\x13A\\x1f?\\\\?\\x13s?n\\x16>4m?>8>\\x13>jz?p8>\"R>&\"?u><^=\\x0c\\x03>s\\x1e\\x03>a\\x1b>(\\x0e>^\\x10$?>:>M>e?\\x1a>\\x10*?t0>jD>e\\'=P,>e>=B5>=\\x0f=2>%IS>>\\x00?0?\\x05!=)L?\\x14 ?Hq=٢_?Kk?,z=\\x8d>5cN???\\x14<>_V>>f\\x13>E\\x1e?@>Z>AZ?? A\\x16=j?>\\x146?F,e?K\\x02?8\\x08?\\x00}=<\\x13>Y\\x08?0Jx>@ډ>d+>Zl<>ԅX>>E=c?\\x17?-? \\x07J?3>D\\x03=\\x7f\\t?8;\\x16?\\x1f>?{\\x02>i\\x02>\\x13K>>Z%?\\x1e\\x12?OR>C|?\\x0f\\x14\\x1b?r>Ts=\\x1b\\x1c>X{>$>m\\x0b?>>و1>ke?Q=aF\\x06?\\x1f>*}{?t=>7/x?]?+Q?\\x0b>(.>4,+?m?\\x03\\x0e?6U\\x12?kY>}D?e?>I>>\\x01?B:x>/=Q\\x1c?bǓ>\\x07\\x14?B\\x11\\x1e>W>W\\x08?DT=eW>\\x00\\t>ʁ=\\tn}?\\x0b>SO?C`>v.?KB?{\\x18?or>>ݞ>m?yT?\\x01\\x0cw?=!\\x1a;?\\x157p?)9>2/=\\x15=?\\x10\\x13?\\x17W?} \\x0f>K?dwN>l\\'>K5(>P?]J*?\\x05?>7`?>\\x0cQ?J>>]>3N>Tc??I\\x00?*m>Jf?d>H&\\x0b?\\x0eh?\\x10\\x1f?=h=טp?z ?x>W\\x0e><EK?\\x17\\x1e?\\x08?%d?I?P\\x1b>\\t>s~>Ds>?NY\\t=J\\x11?~0C?s`?W%>=R?=\\x19X?c\\x02>=i>\\x1bL?\\x19>j>8?QT8?@\"$?1?\\n?>\\x11>9>7h?*Y\\x15?f<>\\x06>)r?&\\x08\\x1d>)\\x13\\x16?\\x01?D\\x1c?[<C_?Nn?\\x10?W2?(l?\\r5?23\\x1c>\\x13?Q\\x1b?\\'><?2o?\\x0fl?k>Y=\\x1e|?\\x06V?&O=Kk?^?\\x04?]\\x17?\\x15J>M`=>·M?:ȗ;g>>\\x92\\t?{k?CT>ڣ><?\\x1c>e>\\'><\\x10>ʞ4>\\x10*>f}>W3j?>p\\x14?\\x13!?\"V<)?\\x0fO6>\\x08v?\\x0b;\\x18>I>ˮ=\\'3\\x7f?ڏ\\x00?\\'k\\x18?d_=i??~V>e? \\x10R>CC>\\x1b\\x15=²>n\\x10?@=F?y\\x15>q>\\x06?>0>D\\x0f?M\\x1e>^K:>\\\\?4r?f\">\\x0c>\\'$?E>\\x0c<w\\x1f>I7?=(?j<Lc>ߞl>*\\x01,?w<6=ML?i6>^\\x1a\\'?0s>=!\\x02y>|8?\\x0e[?JT?[>\\x07+?gQ>v\\x17>Dve?\\x05\\x06U<\\x19\\x1f=\"T>\\x10Z<69>6B\\x15?>\"d?CQ?\\x02>&ӄ>\\x0bg>\\x1d\\x17??>9\\x1f?g>R\\r?K>7Ė>r?{C?y\\x0f>S^?>`\\x01e?PL?>\\x11<\\x14>\\n?+\"?\\t>\\\\\\x0e>U?\\x01|?\\x06?/>k>\\x0b<}\\x0fj?{\\'=\\x13?P>\\r?}&?iT?\\x19`S>\\'4<+\\x0c>gf?C_?\\x11\\x18?y\\x19??*?3>\\x16j?\\x17i>*>\\x04?c_@=0F*><?'}, {'id': 'redisflat:01K6F8BCNKXKE7VHTK7G2X4CHE', 'vector': 'y?>\\x1f \\t<tr!?{,?\\x05?Iv0?Ǭ>4a\\x18>0 *?\\'\\x12{>=>>S>3\\x19?H<[}? `7?m>\\x05C>\\x024=\\x14,?\\x02H>gj>b>\\x17?+?)%?\\\\?\\x01`>\\x01#?\\x0e\\x15=sE\\x0c?L~\\x15?Om]>\\x00>S?\\x17>w>n?H\\r\\x01?]9?~S?;P>Wt_>\\r3B?@?ɂv=}\\x1e>s\\x0c>;T?T>\\tm?!\\x7f?G?Q*?>K=9\\x12?c1>ꨳ>\\r0?#b>9@?\\\\>{\\x1a>5>us?0M?R>X>ȃm?U=\\x05>\\x0cB>(\\x12?K><=\\t\\x12!?V=\\x02>\\x1b?M\\x01?$>y;=#?\\x02>|>\\n\\x18?\\x133\\x1b?6Nv<8;\\x00>1r>-?N\\x13?A?y=?1jZ?>6>mT?Ms>\\x1e>NF>xi?>*Y>\\'1?\"z>tq?L8>%*?ð>N?e?\\x05I?;7Y?=l?,\\x1f?\\n^??7/?(N>\\x0b\\x1c?\\x06B=\\x1a2?h>_\\x1b>ήz?xf?Hd?!I?%1?J\\'?G=f?a?Es??dm?\\r?`1>gw?>-$?\\x00\\x02>G\"?hX8?m\\x1f?f\\x03?\\x1f>\\x12$?̎h?\\x05;$\\t>K=/Wl?թ)?cs?@3\\x15?Ah>J?\\r$>>>\\x7f>Ϙ>&\\x19>=6J>:ƫ>zK?:>z>=d\\x0e?z\\x1c?}]?Q?\\x0f\\x1d>=\\x0c>E\\x1f>\\x05\\x0ex?X,?^.=\\x0f\\x0c>ɺ>\\x13T>M?[\\x12?w\\x1c?x>\\x1a>(\\x16?Y7?>C\\x01?V?\\x08@\\x18>ԓ\\x0b?%c>[3?\\x17<#+?\\x0c==9?w#?\\x1ae?\\x1b\\x08\\x05?\\x07?\\x1f4?^>1\\x17=\"k>ʹs>z۫>Ɔq?-\\nN?Ԛo?\\x7f?H\\x18>h>o\\\\\\x0f?\\x06a?ht>a\\x01?h\\t>E>/$>\\x10>\\x01&c?\\x0fr=x?\\x1d\\x07<s\\x12r?L\\x0c?t3??>hz\\'?a?\\x0e>!\\x02>>y%>J=Q-?]Z>}*?e\\\\?\\x19&?v=\\x12?>Qί>\\x16>Em?\\x14>?\\x0f\\t>>#>*Zz?\\x1b`z?\\x06>,H>6s\\x19?g>\\x1d7Z>\\x10)?\\x12>Y\\'?q>@3?*?A\\x02?i4?\\x03>=\\x10z:>{>+~=\\x14\\x1d6?\\x1a>$=Q?\\x03/?>\\x11]}>Gc\\x1b>\\x06>wb?@>\\x11?\\x0e1v?\\x12\\x1a#?\\x0fC>8d7?\\x17S?\\x13,\\x17?h0_?I\\x03?|T?s?~Q\\x00?d\\x1a?\\x11\\x06\\x1c?\\x1d\\x0cH?R?\\x04\\x10<t;?\\x1eH?XO3?´6?\\x0b)=R>9tQ?\\x18\\x1bo?j>\\x1fF\\x14?M?ʝ@?o\\x1e?C\\x1e<P9?8E?\\x0c9?\\x12\\x0cD?>f~?KRE?_$\\x14?)\\'o?\\x7fh?xP?ON\\x10?\\x18\\x06?hL>\\x14s>)\\x03?\\x13?#ez>/l?\\x0e?\\x0e\\x06?\\x0b>+m=\\x0ea?\\x11M>Hx$?Ā\\x1b?\\x15?\\x13\\x06?]9>>01\\x06?Y\\x12J?->\\x13P>5\\x1c=\\x17)?\\x04>:a\\x00>ݩ,?T>N\\x02?Ĝ>=n?Yi>>_u?/>\\x0f\\x04%?\\x0c*>= ?\\x0bj?>\\x1bM ?\\x1b?>i\\x1d?Wń>/>w>/]?X>W\"?Z>P>o%?&C?>0>\\x07i?4\\x11\\x0b>8?\\x080?0?wo?j:?f>\\x0e>?>yb<i?=%3?:?W?&\\r?9?>>?0ԯ>l g?M\\'>>^>$F?L??*W>\\x13>硛>><\\t?>F)?\\x01>Br?>v ?D\\x1c?*>>\\\\\\x1f>0>\\n`>>Ә6>V>>\\x06>\\x07V\\x06>\\x0b%?{4?3p?/=^a=??T=\\x1f@\\x08?Rl\\x1f?>RCL?/?\\n`|?X4\\r>hn=\\x12>(\\x0f<n?>\\x10l\\r?\\x06ڢ>A{>\\x05\\x1c>\\x00\\x07>\\x18\\x1d?+x?\\x1f\\x0e?_\\x08?o\\x10=\\x10W?7=g?d\\t?,>1F>N~?3>>\\x13=R\\x18?=\\x1b\\x19D?;Rk?\\x1bn?2\\x03=L\\x0e?=o\\x12?P?\\t?>_?:M?>bN!?l;\\x02>իs>o?&>p\\'?&c;?BE?[<?q\\r>\"/?\\x0c?j\\x18?\\x0bU:W:>IAn?ڄ>C>w\\'?>\\r>QU>ջ\\r?vEk?\\x03>>k\\x10?>\\x07\\x11i?Lu>?\\x1b>3\\x08?5H?$\\\\\\x10?\\x13t>\\x01=\\x11p?;3M?!<OR?k1\\x17?A\\x04?\\\\H<G?J>\\\\:? <K?D<q>[>I!>CM>?>\\x1fH~?x\\x14?\\x04\\x11?+b>?>-=\\x1e5C?>Հ@?N>2\\x1f}?:/>e:}F\\x18?s?V%?Џ=\\\\\\n?#h?0;\\t*>\\x1bP?\\x19d?z\\x085?}?!ø=u\\x0b?[/?3?!K?j?\\x11)>b/=>+?<Z>cZO?\\ta>$<\\x11\\x02?c9?\\x06\\x06>??v>/>v=\\n5?i|>i?(N\\n?e>>\\x06>\\x02\\x18?\\x08\\x15?cL?\\x06N>a>$=\\x187>30>v?U/\\'?mjH?;>+\\x13>p>O>\\x0cG\\x15?Nծ>~~[?A\\x11}?į>~4?\\nQ(?-!G>\\x02k?:L>9<?>\\x1d>0>eP]?4\\x0f>Z_=K>3c=\\x060?B?nZ?rl>?\\x01j???o?־E>\\x10><r~?{.?`?h<+_?V2?.>`<\\x19\\x15>\\x1fpj?\\n+?Tbk?m>o?\\x12\\t>\\'(Q>\\x06\\x1b>sj~?\\x0c>#>\\t<-6>\\x1ec?ִ\\x08?C!?!l?zI\\x03?V?zͥ>Y#z?+i=n9?\\x1a)?ED>\\x16>#+>z=\\x15?&a~?+A\\x0f?\\'\\x0b?\\x1f%=\\x0e>Tb\\x03?4|?]i`?/>T\\x02\\x0b?}\\r?s/?|\\x120?/J?\\t<\\x06q?|=B>ik?>\\x07T=j>#\\x14?=P>~>rP?ی=.?q,>v\\x16?vR>\\x15\\x1c?Ή,?Տ=:\\x08S?&{\\\\?(=\\x7fj\\x1a?#\\x11\\x18?^\\x1eL<\\x07H>\\x0bx?\\x052\\x0e?n?\\x0c,?;<\\x19(=8?(\\r?\\x0c4\\x02>63\\x1d?nO?u@?\\x03\\x12|>!2>8w?,c?\\x1c><R?ɞ%>I>u9>=/Z?,\\x14?啄>uAY?BzM?=Q$?\\x168?v@7?\\x1f9?W->\\x03S>\\x15\\x1cX?\\x00e?>m<\\x19\\\\?.\\x12>r>>)>*>\\x01\\x11?q=ܶx?Ao?F5o?W\\x18a?%\\x0b)?Hjb>2J=h=X>z\\x00?E~?s>5O\\x06?1?S\\x129>n?n\\x07?yq>Mco?\\x1d ?.>\\x19\\x14???6?\\x1e>e]?=u?&\\x11?M.?\\x0c\\x1e\\\\?.>9*~?V5.?[\\x16>\\x06f-?ӌ\\x05?V=ԽK?z\\x10?K?<\\x1e>\\t?}AD?\\x01}?gb?\\x04F]?1f}>)V?\\x12X->J>=r[?=\\x19m\\r>{>\\x01\\x12?}Sa?\\x00\">e\\x0b?2|*>\\x0e*>#\\t>>= \\x17?\\x02k>/X?p2{?\\x13=AO<.J?7C>ϴ>>Bj?(?#V&=r<[L>o>\\x13>|V?/>}>>X\\x12<\\x17t?T\\x0e>\\'I>\\x16h\\x04>y(>pn?.<=>>tK<YE?f\\'$?t\\x1f3?\\x12>Zh?>\\x14\\x03?y1?vC\\x05?4A>\\x14W>\\x04=\\x7f>\\x1f\\x01\\x1c?Կ=(n!?Ed? >\\\\c>\\x0cd?S#1?D=\\r>#,?\\n\\x13?\\x1bY\\x1e?/\\x11?ML?\\x01\\x0f>]5?b}?>$J?\\x0f\\x04|>T>=So?|<F^>bA>>D\\x11!?XE>z=D\\x19>%<\\x06?Z\\x0f?{\\x19?\\x1du\\x0c?h{>C?#Ƴ=H\\x1dK>G=?D8>>v>\\x01?|>j~?M\\x07>P ?vjc?O#?\\x05\\x10?\\x06\\x11?\\x190>N?zN=b??\\x17\\x16?OY?\\'F*<^?\\n=8?KB>Z.?\\x0b ?mQ\\'>\\x03?\\'>x\\x0f?<?j=\\x02\\t\\x04?\\x1c\\x1e?g:>\\ts?2\\x05?:>\\x18=3\\n??\\x1f>\\x11+E>e{<\\x0c\\x11?=\\x19?4\\x11>\\x0b\\x1a?}s?'}, {'id': 'redisflat:01K6F8BCNKXKE7VHTK7G2X4CGY', 'vector': '\\x03b>$>5>6$K?>f|\\x00?_\\x1f?7m>l7?}\\x0f\\x0c?>\\x02NO?Vy>\\x17b?\\x0f?\\x1b?\\x03`?\\x19MQ?\\x19?@?\\r> \\x0c?A=~=n\\x07=9UT?Djt=v->K?3:M>\\x15?ho\\x18?~F?b\\x01?)h\\x02?9?K>\\x12\\x1b?e?>\\x1d/>4h;\\t\\x1d?7<\\x0f\\x01?DM?\\x0c?\\r>UBI?Y\\x18>;?9\\x1c?\\x13.>۶g?uM>U}?ӌ;K>.L>De<v|;?Z1?J?m>\\x7f>(?V)>2?\\x15L\"?x=qG??~8?\\'?\\x1e>6>N>R>\\x1aGi>+N?0c#?\\x10?&`g>\\x11\\x07k?}C>K?ww?\":?+~?I&?^>\\x0fP>J->;ʃ.?ӎ>ٯP?z>ܼ>d7w?w>\\x1c8?fOA?WMb>TA\\x00?M>E?\\x11[\\x1f?\\r>ZG?p>]@?,]?X`?՞H?<>W{?\\x19Z>|#?$>z?l84?Z@?=ZoC?FTF?L+?-u>>j+=s>y>\\u05fc>&>_k>\\x05М=~k?\\x07?!>\\x08? ?@\\x00l?I6>R>Ty?\\x02\\r>6Ӹ</\\x17>C<k}?)Ȏ>Lml?g~?2\\x19?\\x07=\\x19=ג>>p.\\x1b?>\\x1fo?\\x08?\\x081?\\x0fe?e\\x16>?k>=^\\x0e>8\\x03?q>\\x1c>t{?\\x1bw >r\\n?|=\\x11>\\x0b\\x07?uVr?\\x11O>=\\x19>-=\\x15>fk>0;\\x1e?\\x15=F>\\x05\\x1c?>ݮ<J|?>PG?#>e5>>Ma>\\x01<T>c?0?\\x14>U\\x17?>id?n53?@\\x18>E*^?c>|>K\\x06?ͺY?}n?m?AR\\x02<\\x00l?^=|\\x13>>\\x03?Ҹ>C\\x1a?y>?3o?pRv>L>{k?)=.\\x0c\\x1c??.?/k\\x01?.1?0>\\x1bFZ?b\\x0f>J7> =\\x0b?vt+?p?#E=?\\n?n?>,\\x0f?\\x18?>ͦV?Þ=>#\\n\\x0e?G8?jg?zHb?<\\x02?;$?>>\\t\\x01h?Bn?9e?\\x17\\r>\\x1bY?r?>\\x01\\x04?rG?Z\\x0f?T~?CS>6?AJ?>Jc[?\\x0b?>=m>B;?mk?\\x1f܀>n>\\x1d>70?u?r\\x15$?\\x1d?\\r?I(=:?\\x1f\\x1a?V)?|\\x18f?H?\\x10G?[m?al}?\\x14?S=\\x13\\x13>;I?8 <\\x02i=\\x05=)%;?uL\\x00?1>M=\\x19t;?\\\\>؇>d&?V\\x1b\\x0f?㍹>8$?݊>yK?j>Y\">MH?j85?\\x05;>A\\x12=SV?(F?G>\\x7f(?G=\\x01?Ep<\\x0b>1G=~F>>o>Q9=%>A?X>\\x157?Q,>ײ><[\\x10?_s?:=\\x06=\\x15\\x1b?\\x07r?\\x7f^}?`>e>X\\x1c%?\\x14>\\x0e?S\"?m_?\\r??f>y>#?VR>\\x0eb><=2>v\\x1e>kR?N>\\x05?ߞ>y=\\rSu?Z?=C8?>z~?Ӛ>wt>Fa\\x11?U?#E>k5?x{=O?k?\\n=\\x11\\x0bj?\\x16K>3l>*y?щ}?\\x13r&?+\\x02>]\\x01?<w\\x07?ò\\x03?8\\x11?d<\\x126?y_6?k{=6\\x11?\\x1e\\x11?\\x12.?=b ?>\\x01?E?64?m=W\\x17?\\x05\\x18x?+ >\\x1eXZ?13?\\x15%F?\\\\>.f>g?;>7\\x0e=\\x19?h=K?\\x7fI$?\\x14_?\\x18H?כ=\\x1b>IF?ȭ>x?|Y<?]}<Fa?r=s\\x0f>\\x07<?n]?6N\\t?T>߳>1>ZB>Px>\\x1b?f?9>,?>\\x07V?=?VKn?\\x01~)>\\x13>\\x1e\\n?K\\x1d?K>U\\x19?y8>>x(?>C-?\\x02>ͪ>\\x1fr>a>s&<w$+?XX?>><=S|?u\\x03>\\x01>3P>\\x13\\x12=?<|>\\x1f\\x13?H>?.=a\\x1b>\\x1d9?J\\x1c?^N==\\'>\\x1a\\x07$?;P?R>If\\x18?1.>l>\\r<D?)Q>P?W5?(T?A>%=>x?ˢ7?˃U?]-W<{><)>?w=1=\\x11?m>~P<q>AБ>\\x16=g!?&7x>%$>e?*>\\x05>O9?sh?\\x01\\x19<\\x7f>+\\\\\\x1c?\\x1a>E?x?uq?.>9g>\\x19\\x1eu?Z>\\x00LU>4?>Ԉ>w\\x16a?`&>s=҉>`\\x1b?|\\x15=t>* ?FY?bk>=Q?Dp>@-??>\\x00=6?*^>4>\\x1av>\\x08>\\'?Ɯo>\\x11<>\\x14#<4{>ow>\\x07{o>_[=m>I?\\x1c7?\\x0e]\\\\?\\x00\\x1d<Bgw?ͮ>}?WW>8m>\\x026>E&>͟W?P\\x15??}?L\\x0f\\x1d?/>x=\\x1e\\x7f?\\x1d1\\r?~R3?@>\\x197\\x0c?Lq?i*>ܱ>\\x1b>J?,#~=\\x7f.=8Ԙ>֡\\x03?@\\x03>O7=+\\x1eu?Bs?\\x07>CE;?\\x1d\\x14?\\x17-s>Z;>nx>9>\\x03\\x1c>\\x14N?O>\\x1f\\'?A>\\x08?͢>\\x0b\\x06?4G?\\x7fD?j\\\\>%1?ap?+ ?\\x17>b\\x01.?\\x1c=B_?C\\x04?+1>\\x7fi=\\x16>8g?<\\x15\\x05>``n?(>9>\\x1c\\x14?\\x1f\\x06>,>\\x01<\\x1c\\x1c?k?p=\\x03X>>\\tO?}܉>Qa?\\x1ba=p?\\x1f\\x0f?(?A>0H?X*>WH=2>͋Z?BA?Ud\\x04?w\\x12?\\x02\\x05>6W?1vI?r\\x0e(?>v?=\\x08a?f$?\\\\>6\\x1e?\\x19P\\x13?\\x16>_\\x04>c>\\x12?~4><>~B?A\\x0e\\x08?G=>b?.WA?>,p?=z\\x13v?\\x1e{>\\x14<\\x16\\x1c>ʷ>\\x01\\n?NK?W?\\x05n>\\x14>\\x17>HB=&$?=J;?\\x01\\n?VYK>-\\x1e\\n?c;>*>L?>D\\x18>L9?8@?>\\x11=?m>P>Y?\\ng5?y\\x06=)>^? <\\x0b?R:?1\\x1f?=B?9?(1?pPR?K%?\\t>\\x12>F{7?U`?C`>$>Dn?Y\\x19\\x14?A7>)?}?R?>?/\\nU>J`?\\x19\\x06?c?1ߨ>?)~=\\x1f>((>D\\x197?\\x04u?0?\\x1a\\x0ec?>?E?W?5?\\x01?8 ?mT3?G>@O?xHs?3>$y3?<?\\x0e)?\\x0f\\x0c?a?>\\x18Gz=4X?\\t,?\\x03iY?a\\r><+3o?\\x17F\\x17>`EO?R?m5?i\\x06>*?.c?I>{>S>*~=[d?ł^?v\\x7f?\\x15?\\x18N@?9O>+*?T&?f?ծT?W?p?k^?b^?`=X?\\x1b?>{g=\\x07|-?\\x0f\\n>_>.?\\x0fji?OS?>>҈u>>Jl=_x?A\\x12?\\x02>>\\n\\x0c?1k\\x08?k\\x11=Qjs?\\x0b><=\\x14?\\x17\\r>*=f^>Gm\\x1f?E\\x0c=l>>I#>\\x0f\\x01?=.>=\\x13\\x05?}>XS=\\x12\\x0b>Fj?d9?4P?5_?\"x?!dC?\\x1b?\\x1a\\x19>\\x00:>/?\\x0b~?I>\\rC9?|>a&>\\x13>\\x15/\\x01?ٻ>??K_?\\x04b?)i>MZe?߮>]>\\x0c:?)\\x01>MX=J>8?\\x18g>*!?(? ;?Xe?\\x18y>,m*>;J>\\x07E>6?/V<>ãG?U+?PS;?O?#H?.?Q\\x1b>\\x1a{?Ȯ\\x11?O>>O1?l?i\\x027>H=\\x05a?Oj?>+>\\x15\\x02)?>y`?9R=?\\x1b=h}U>\\x19z>\\x0fF==oA?\\x1e8(>i?tj>Ӭ+?f>,\\x17v>$ \\x13?K\\x0f?pD?\\x0e\\x00B?1+?q>\\x02\\x01d?Na\\x1f?}}?8Q?4~5=$>rf\\x12?:8?\\x0c??I?>>qS<>\\\\=\\x12?\\x0fH0?\\x19>\\x13\\x1d?ҢU=OZ=33?s>+?T?wEZ?L0>l>;?#F?H?i>\\'E>\\x0f\\x0b\\x17?ͷ=?Af>o=|7?q>Z*>D\\x17>;>'}]\n",
      "Query executed.\n",
      "Results: 3\n",
      "Vector query execution took: 0.0011 seconds\n"
     ]
    }
   ],
   "source": [
    "#lets query redis\n",
    "with timer(\"Vector query execution\"):\n",
    "    query = VectorQuery(\n",
    "        vector=fake_embeddings[0],\n",
    "        vector_field_name=\"vector\",\n",
    "        num_results=3,\n",
    "        return_fields=[\"vector\"],\n",
    "        return_score=False,\n",
    "    )\n",
    "    results = flatindex.query(query)\n",
    "    print(results)\n",
    "    print(\"Query executed.\")\n",
    "    print(\"Results:\", len( results))"
   ]
  },
  {
   "cell_type": "code",
   "execution_count": null,
   "id": "2de66b7d",
   "metadata": {},
   "outputs": [],
   "source": []
  },
  {
   "cell_type": "code",
   "execution_count": null,
   "id": "dd837808",
   "metadata": {},
   "outputs": [],
   "source": []
  },
  {
   "cell_type": "code",
   "execution_count": null,
   "id": "4d9cd4f5",
   "metadata": {},
   "outputs": [],
   "source": []
  },
  {
   "cell_type": "code",
   "execution_count": null,
   "id": "ff23e0f6",
   "metadata": {},
   "outputs": [],
   "source": []
  }
 ],
 "metadata": {
  "kernelspec": {
   "display_name": "venv",
   "language": "python",
   "name": "python3"
  },
  "language_info": {
   "codemirror_mode": {
    "name": "ipython",
    "version": 3
   },
   "file_extension": ".py",
   "mimetype": "text/x-python",
   "name": "python",
   "nbconvert_exporter": "python",
   "pygments_lexer": "ipython3",
   "version": "3.13.7"
  }
 },
 "nbformat": 4,
 "nbformat_minor": 5
}
